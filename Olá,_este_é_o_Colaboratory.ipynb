{
  "cells": [
    {
      "cell_type": "markdown",
      "metadata": {
        "id": "view-in-github",
        "colab_type": "text"
      },
      "source": [
        "<a href=\"https://colab.research.google.com/github/Vitor140899/TurmaPROD/blob/main/Ol%C3%A1%2C_este_%C3%A9_o_Colaboratory.ipynb\" target=\"_parent\"><img src=\"https://colab.research.google.com/assets/colab-badge.svg\" alt=\"Open In Colab\"/></a>"
      ]
    },
    {
      "cell_type": "markdown",
      "source": [
        "Solicitar numero se é par ou impar"
      ],
      "metadata": {
        "id": "WJ3oSmypUjh0"
      }
    },
    {
      "cell_type": "code",
      "source": [
        "# Solicita ao usuario qu insira um número\n",
        "numero = int(input(\"Digite um número inteiro\"))\n",
        "\n",
        "#verifica se o número é par ou impar\n",
        "if numero % 2 == 0:\n",
        "  print(f\"o número {numero} é par.\")\n",
        "else:\n",
        "  print(f\"o número {numero} ´impar.\")"
      ],
      "metadata": {
        "id": "fXxfKpjpUcrs",
        "outputId": "e034bd6f-65db-40f5-d0e2-046f4fa0a063",
        "colab": {
          "base_uri": "https://localhost:8080/"
        }
      },
      "execution_count": 6,
      "outputs": [
        {
          "output_type": "stream",
          "name": "stdout",
          "text": [
            "Digite um número inteiro5798463548\n",
            "o número 5798463548 é par.\n"
          ]
        }
      ]
    },
    {
      "cell_type": "markdown",
      "source": [
        "Raiz quadrada"
      ],
      "metadata": {
        "id": "T1Sk8oKoWcOQ"
      }
    },
    {
      "cell_type": "code",
      "source": [
        "import math\n",
        "\n",
        "#solicita ao usuario que insira um número\n",
        "numero = float(input(\"digite um número: \"))\n",
        "\n",
        "#verifica se o número é maior ou igual a zero\n",
        "if numero >= 0:\n",
        "  raiz_quadrada = math.sqrt(numero)\n",
        "  print(f\"A raiz quadrada de numero {numero} é {raiz_quadrada:.3f}.\")\n",
        "else:\n",
        "  print(\"não existe raiz real para este número!\")\n",
        "\n"
      ],
      "metadata": {
        "id": "PaxAbnAiWNR9",
        "outputId": "c508d601-bd8f-49ad-f00e-2f88265fded1",
        "colab": {
          "base_uri": "https://localhost:8080/"
        }
      },
      "execution_count": 14,
      "outputs": [
        {
          "output_type": "stream",
          "name": "stdout",
          "text": [
            "digite um número: 583\n",
            "A raiz quadrada de numero 583.0 é 24.145.\n"
          ]
        }
      ]
    }
  ],
  "metadata": {
    "colab": {
      "name": "Olá, este é o Colaboratory",
      "toc_visible": true,
      "provenance": [],
      "include_colab_link": true
    },
    "kernelspec": {
      "display_name": "Python 3",
      "name": "python3"
    }
  },
  "nbformat": 4,
  "nbformat_minor": 0
}