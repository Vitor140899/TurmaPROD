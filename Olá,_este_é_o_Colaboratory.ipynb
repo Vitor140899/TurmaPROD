{
  "cells": [
    {
      "cell_type": "markdown",
      "metadata": {
        "id": "view-in-github",
        "colab_type": "text"
      },
      "source": [
        "<a href=\"https://colab.research.google.com/github/Vitor140899/TurmaPROD/blob/main/Ol%C3%A1%2C_este_%C3%A9_o_Colaboratory.ipynb\" target=\"_parent\"><img src=\"https://colab.research.google.com/assets/colab-badge.svg\" alt=\"Open In Colab\"/></a>"
      ]
    },
    {
      "cell_type": "markdown",
      "source": [
        "Exercicio extra 18/09/2024"
      ],
      "metadata": {
        "id": "xhS8lwfvTBEq"
      }
    },
    {
      "cell_type": "code",
      "source": [
        "\n",
        "x = int(input(\"valor multiplo de 3: \"))\n",
        "r = x%3\n",
        "if r==0:\n",
        "  print(\"múltiplo\")\n",
        "else:\n",
        "  print(\"Não multiplo\")"
      ],
      "metadata": {
        "id": "9MUhv7z3TAy6",
        "outputId": "e5a0065a-2a85-43bf-900f-08fb5bbee8d2",
        "colab": {
          "base_uri": "https://localhost:8080/"
        }
      },
      "execution_count": 7,
      "outputs": [
        {
          "output_type": "stream",
          "name": "stdout",
          "text": [
            "valor multiplo de 3: 3\n",
            "múltiplo\n"
          ]
        }
      ]
    },
    {
      "cell_type": "markdown",
      "source": [
        "Exercicio 2"
      ],
      "metadata": {
        "id": "ec8q0hN6gLyk"
      }
    },
    {
      "cell_type": "code",
      "source": [
        "def calcular_media_ponderada(nota1, nota2):\n",
        "    peso1 = 2\n",
        "    peso2 = 3\n",
        "    soma_pesos = peso1 + peso2\n",
        "    media = (nota1 * peso1 + nota2 * peso2) / soma_pesos\n",
        "    return media\n",
        "\n",
        "def main():\n",
        "    try:\n",
        "        nota1 = float(input(\"Digite a primeira nota (peso 2): \"))\n",
        "        nota2 = float(input(\"Digite a segunda nota (peso 3): \"))\n",
        "\n",
        "        media = calcular_media_ponderada(nota1, nota2)\n",
        "        print(f\"A média ponderada é: {media:.2f}\")\n",
        "    except ValueError:\n",
        "        print(\"Por favor, insira valores numéricos válidos.\")\n",
        "\n",
        "if __name__ == \"__main__\":\n",
        "    main()\n"
      ],
      "metadata": {
        "id": "W_18M0BObIPy",
        "outputId": "f9eb3663-0fd7-4478-8ee9-c8e641742931",
        "colab": {
          "base_uri": "https://localhost:8080/"
        }
      },
      "execution_count": 12,
      "outputs": [
        {
          "output_type": "stream",
          "name": "stdout",
          "text": [
            "Digite a primeira nota (peso 2): 8\n",
            "Digite a segunda nota (peso 3): 9\n",
            "A média ponderada é: 8.60\n"
          ]
        }
      ]
    },
    {
      "cell_type": "code",
      "source": [
        "a = float(input(\"\"))"
      ],
      "metadata": {
        "id": "8CKT59JBfX09"
      },
      "execution_count": null,
      "outputs": []
    }
  ],
  "metadata": {
    "colab": {
      "name": "Olá, este é o Colaboratory",
      "toc_visible": true,
      "provenance": [],
      "include_colab_link": true
    },
    "kernelspec": {
      "display_name": "Python 3",
      "name": "python3"
    }
  },
  "nbformat": 4,
  "nbformat_minor": 0
}